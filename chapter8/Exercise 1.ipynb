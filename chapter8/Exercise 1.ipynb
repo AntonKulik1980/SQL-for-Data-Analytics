{
 "cells": [
  {
   "cell_type": "markdown",
   "metadata": {},
   "source": [
    "# Exercise 1\n",
    "\n",
    "This jupyter notebook provides a Python version of Exercise 1 - Query Planner.  Rather than using the raw SQL commands within the SQL interpreter this notebook will use the PostgreSQL adaptor for Python\n",
    "\n",
    "Import the psycopg2 (PostgreSQL adaptor) package"
   ]
  },
  {
   "cell_type": "code",
   "execution_count": 1,
   "metadata": {},
   "outputs": [],
   "source": [
    "import psycopg2"
   ]
  },
  {
   "cell_type": "markdown",
   "metadata": {},
   "source": [
    "Connect to the database with appropriate credentials.  \n",
    "You will need to vary the username value and possibly add a value for\n",
    "password."
   ]
  },
  {
   "cell_type": "code",
   "execution_count": 2,
   "metadata": {},
   "outputs": [],
   "source": [
    "conn = psycopg2.connect(database='sqlda', user='ben', password='')"
   ]
  },
  {
   "cell_type": "markdown",
   "metadata": {},
   "source": [
    "Create the cursor object"
   ]
  },
  {
   "cell_type": "code",
   "execution_count": 3,
   "metadata": {},
   "outputs": [],
   "source": [
    "cur = conn.cursor()"
   ]
  },
  {
   "cell_type": "markdown",
   "metadata": {},
   "source": [
    "Execute the following command:\n",
    "\n",
    "    EXPLAIN SELECT * FROM emails;\n",
    "    \n",
    "by passing the query to the cursor and fetch the (one) result"
   ]
  },
  {
   "cell_type": "code",
   "execution_count": 4,
   "metadata": {},
   "outputs": [
    {
     "data": {
      "text/plain": [
       "('Seq Scan on emails  (cost=0.00..9606.58 rows=418158 width=79)',)"
      ]
     },
     "execution_count": 4,
     "metadata": {},
     "output_type": "execute_result"
    }
   ],
   "source": [
    "cur.execute('EXPLAIN SELECT * FROM emails')\n",
    "cur.fetchone()"
   ]
  },
  {
   "cell_type": "markdown",
   "metadata": {},
   "source": [
    "Notice that the Query plan is returned by the cursor, just without some of the accessory information shown within the text.\n",
    "\n",
    "As described in the exercise within the course content, there are some scenarios where not all available rows will be returned by the database server.  We can use the LIMIT command to apply such a constraint.  Execute the following command:\n",
    "\n",
    "    EXPLAIN SELECT * FROM emails LIMIT 5;\n",
    "    \n",
    "This time, use the fetchall method rather than fetchone as we expect the query planner to return mutiple lines in the plan"
   ]
  },
  {
   "cell_type": "code",
   "execution_count": 5,
   "metadata": {},
   "outputs": [
    {
     "data": {
      "text/plain": [
       "[('Limit  (cost=0.00..0.11 rows=5 width=79)',),\n",
       " ('  ->  Seq Scan on emails  (cost=0.00..9606.58 rows=418158 width=79)',)]"
      ]
     },
     "execution_count": 5,
     "metadata": {},
     "output_type": "execute_result"
    }
   ],
   "source": [
    "cur.execute('EXPLAIN SELECT * FROM emails LIMIT 5')\n",
    "cur.fetchall()"
   ]
  },
  {
   "cell_type": "markdown",
   "metadata": {},
   "source": [
    "The final query plan that we will analyse will involve searching for dates between two specific values in the field *clicked_date*."
   ]
  },
  {
   "cell_type": "code",
   "execution_count": 6,
   "metadata": {},
   "outputs": [
    {
     "data": {
      "text/plain": [
       "[('Gather  (cost=1000.00..9051.49 rows=130 width=79)',),\n",
       " ('  Workers Planned: 2',),\n",
       " ('  ->  Parallel Seq Scan on emails  (cost=0.00..8038.49 rows=54 width=79)',),\n",
       " (\"        Filter: ((clicked_date >= '2011-01-01 00:00:00'::timestamp without time zone) AND (clicked_date <= '2011-02-01 00:00:00'::timestamp without time zone))\",)]"
      ]
     },
     "execution_count": 6,
     "metadata": {},
     "output_type": "execute_result"
    }
   ],
   "source": [
    "cur.execute(\"EXPLAIN SELECT * FROM emails WHERE clicked_date BETWEEN '2011-01-01' AND '2011-02-01'\")\n",
    "cur.fetchall()"
   ]
  }
 ],
 "metadata": {
  "kernelspec": {
   "display_name": "Python 3",
   "language": "python",
   "name": "python3"
  },
  "language_info": {
   "codemirror_mode": {
    "name": "ipython",
    "version": 3
   },
   "file_extension": ".py",
   "mimetype": "text/x-python",
   "name": "python",
   "nbconvert_exporter": "python",
   "pygments_lexer": "ipython3",
   "version": "3.7.3"
  }
 },
 "nbformat": 4,
 "nbformat_minor": 2
}
